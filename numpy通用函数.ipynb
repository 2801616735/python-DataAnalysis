{
 "cells": [
  {
   "cell_type": "markdown",
   "metadata": {},
   "source": [
    "# 二、numpy通用函数"
   ]
  },
  {
   "cell_type": "code",
   "execution_count": 1,
   "metadata": {},
   "outputs": [],
   "source": [
    "import numpy as np"
   ]
  },
  {
   "cell_type": "markdown",
   "metadata": {},
   "source": [
    "## 1、统计/数学相关函数"
   ]
  },
  {
   "cell_type": "markdown",
   "metadata": {},
   "source": [
    "### 1.1、一元"
   ]
  },
  {
   "cell_type": "code",
   "execution_count": 32,
   "metadata": {},
   "outputs": [
    {
     "name": "stdout",
     "output_type": "stream",
     "text": [
      "[1. 2. 3.]\n",
      "9\n",
      "1\n",
      "4.666666666666667\n",
      "3.2998316455372216\n",
      "[ 1 16 81]\n",
      "[0.       2.       3.169925]\n",
      "14\n"
     ]
    }
   ],
   "source": [
    "arr = np.array([1,4,9],dtype=np.int)\n",
    "\n",
    "# 开根号\n",
    "print(np.sqrt(arr))\n",
    "\n",
    "# 最大值\n",
    "print(np.max(arr))\n",
    "\n",
    "# 最小值\n",
    "print(np.min(arr))\n",
    "\n",
    "# 平均值\n",
    "print(np.mean(arr))\n",
    "\n",
    "# 方差\n",
    "print(np.std(arr))\n",
    "\n",
    "# 平方\n",
    "print(np.square(arr))\n",
    "\n",
    "# log2的对数\n",
    "print(np.log2(arr))\n",
    "\n",
    "# 求和\n",
    "print(np.sum(arr))"
   ]
  },
  {
   "cell_type": "markdown",
   "metadata": {},
   "source": [
    "### 2.2、二元"
   ]
  },
  {
   "cell_type": "code",
   "execution_count": 26,
   "metadata": {
    "collapsed": true
   },
   "outputs": [
    {
     "name": "stdout",
     "output_type": "stream",
     "text": [
      "[2 3 6]\n",
      "[1 3 5]\n",
      "[ 3  6 11]\n",
      "[ 2  9 30]\n",
      "[-1  0 -1]\n"
     ]
    }
   ],
   "source": [
    "arr1 = np.array([1,3,5])\n",
    "arr2 = np.array([2,3,6])\n",
    "# 同级元素的最大值\n",
    "print(np.maximum(arr1,arr2))\n",
    "\n",
    "# 同级元素的最小值\n",
    "print(np.minimum(arr1,arr2))\n",
    "\n",
    "# 数组相加 arr1+arr2\n",
    "print(np.add(arr1,arr2))\n",
    "\n",
    "# 相乘 arr1*arr2\n",
    "print(np.multiply(arr1,arr2))\n",
    "\n",
    "# 相减 arr1-arr2\n",
    "print(np.subtract(arr1,arr2))"
   ]
  },
  {
   "cell_type": "markdown",
   "metadata": {},
   "source": [
    "## 2、条件函数\n",
    "* np.where(condition,x,y)"
   ]
  },
  {
   "cell_type": "code",
   "execution_count": 31,
   "metadata": {},
   "outputs": [
    {
     "name": "stdout",
     "output_type": "stream",
     "text": [
      "[ 0.92929288  0.94350171 -0.70339642  0.04832271  0.51471923 -0.13661988\n",
      "  1.51514454  0.20044812 -0.30166657 -0.23347368]\n",
      "[0.92929288 0.94350171 0.         0.04832271 0.51471923 0.\n",
      " 1.51514454 0.20044812 0.         0.        ]\n"
     ]
    }
   ],
   "source": [
    "where_arr = np.random.randn(10)\n",
    "print(where_arr)\n",
    "print(np.where(where_arr>0,where_arr,0))"
   ]
  },
  {
   "cell_type": "markdown",
   "metadata": {},
   "source": [
    "## 3、排序"
   ]
  },
  {
   "cell_type": "code",
   "execution_count": 44,
   "metadata": {
    "collapsed": true
   },
   "outputs": [
    {
     "name": "stdout",
     "output_type": "stream",
     "text": [
      "[-0.4737348   1.0063205   0.81824387  1.1709281   0.46363676]\n",
      "[-0.4737348   0.46363676  0.81824387  1.0063205   1.1709281 ]\n",
      "[[ 1.23762479  0.20940942  0.40630486]\n",
      " [-0.9023199   1.03499904  0.45561426]\n",
      " [ 0.31693064  0.60849118 -0.12577856]]\n",
      "[[-0.9023199   0.20940942 -0.12577856]\n",
      " [ 0.31693064  0.60849118  0.40630486]\n",
      " [ 1.23762479  1.03499904  0.45561426]]\n",
      "[[-0.9023199  -0.12577856  0.20940942]\n",
      " [ 0.31693064  0.40630486  0.60849118]\n",
      " [ 0.45561426  1.03499904  1.23762479]]\n"
     ]
    }
   ],
   "source": [
    "# 一维排序\n",
    "arr = np.random.randn(5)\n",
    "print(arr)\n",
    "arr.sort()\n",
    "print(arr)\n",
    "\n",
    "# 二维排序\n",
    "arr1 = np.random.randn(3,3)\n",
    "print(arr1)\n",
    "# 按竖轴，从上到下排序\n",
    "arr1.sort(0)\n",
    "print(arr1)\n",
    "# 按横轴，从左到右排序\n",
    "arr1.sort(1)\n",
    "print(arr1)"
   ]
  },
  {
   "cell_type": "markdown",
   "metadata": {},
   "source": [
    "## 4、集合操作"
   ]
  },
  {
   "cell_type": "code",
   "execution_count": 47,
   "metadata": {},
   "outputs": [
    {
     "name": "stdout",
     "output_type": "stream",
     "text": [
      "[1 2 3 4]\n",
      "[2 3]\n",
      "[1 2 3 4 5]\n"
     ]
    }
   ],
   "source": [
    "arr = np.array([1,3,2,4,2,1])\n",
    "arr1 =  np.array([2,3,5])\n",
    "\n",
    "# 去重\n",
    "print(np.unique(arr))\n",
    "\n",
    "# 求差集\n",
    "print(np.intersect1d(arr,arr1))\n",
    "\n",
    "# 并集\n",
    "print(np.union1d(arr,arr1))"
   ]
  }
 ],
 "metadata": {
  "kernelspec": {
   "display_name": "Python 3",
   "language": "python",
   "name": "python3"
  },
  "language_info": {
   "codemirror_mode": {
    "name": "ipython",
    "version": 3
   },
   "file_extension": ".py",
   "mimetype": "text/x-python",
   "name": "python",
   "nbconvert_exporter": "python",
   "pygments_lexer": "ipython3",
   "version": "3.6.5"
  }
 },
 "nbformat": 4,
 "nbformat_minor": 2
}
