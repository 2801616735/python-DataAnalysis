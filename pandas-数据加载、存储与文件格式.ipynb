{
 "cells": [
  {
   "cell_type": "markdown",
   "metadata": {},
   "source": [
    "# 数据加载、存储与文件格式"
   ]
  },
  {
   "cell_type": "markdown",
   "metadata": {},
   "source": [
    "## 1、读写文本格式的数据"
   ]
  },
  {
   "cell_type": "code",
   "execution_count": 1,
   "metadata": {},
   "outputs": [],
   "source": [
    "import pandas as pd\n",
    "import numpy as np"
   ]
  },
  {
   "cell_type": "code",
   "execution_count": 5,
   "metadata": {},
   "outputs": [],
   "source": [
    "file_name = \"file/1.csv\"\n",
    "# 文件 1.csv 文件内容如下:\n",
    "# name,sex,score\n",
    "# a,boy,90\n",
    "# b,girl,80\n",
    "# c,girl,85\n",
    "# d,boy,75\n",
    "# e,boy,80"
   ]
  },
  {
   "cell_type": "markdown",
   "metadata": {},
   "source": [
    "### 1.1、read_csv\n",
    "**文件分隔符默认为逗号**"
   ]
  },
  {
   "cell_type": "code",
   "execution_count": 6,
   "metadata": {
    "collapsed": true
   },
   "outputs": [
    {
     "name": "stdout",
     "output_type": "stream",
     "text": [
      "  name   sex  score\n",
      "0    a   boy     90\n",
      "1    b  girl     80\n",
      "2    c  girl     85\n",
      "3    d   boy     75\n",
      "4    e   boy     80\n",
      "<class 'pandas.core.frame.DataFrame'>\n",
      "   a   boy  90\n",
      "0  b  girl  80\n",
      "1  c  girl  85\n",
      "2  d   boy  75\n",
      "3  e   boy  80\n",
      "      N     S      F\n",
      "0  name   sex  score\n",
      "1     a   boy     90\n",
      "2     b  girl     80\n",
      "3     c  girl     85\n",
      "4     d   boy     75\n",
      "5     e   boy     80\n",
      "  name   sex  score\n",
      "0    a   boy     90\n",
      "1    b  girl     80\n",
      "2    c  girl     85\n"
     ]
    }
   ],
   "source": [
    "c1 = pd.read_csv(file_name)\n",
    "print(c1)\n",
    "print(type(c1))\n",
    "\n",
    "# 去掉列名\n",
    "# 这时会把第一行，作为dataframe的列索引\n",
    "c1 = pd.read_csv(file_name,skiprows=1)\n",
    "print(c1)\n",
    "\n",
    "# 更换列索引\n",
    "c1 = pd.read_csv(file_name,names=['N','S','F'])\n",
    "print(c1)\n",
    "\n",
    "# 读取文件有效数据前3行\n",
    "c1 = pd.read_csv(file_name,nrows=3)\n",
    "print(c1)\n",
    "\n",
    "# 保存文件\n",
    "c1.to_csv('file/new_1.csv',index=None)"
   ]
  },
  {
   "cell_type": "markdown",
   "metadata": {},
   "source": [
    "### 1.2、read_table\n",
    "**文件分隔符默认为制表符**"
   ]
  },
  {
   "cell_type": "code",
   "execution_count": 7,
   "metadata": {},
   "outputs": [
    {
     "name": "stdout",
     "output_type": "stream",
     "text": [
      "  name   sex  score\n",
      "0    a   boy     90\n",
      "1    b  girl     80\n",
      "2    c  girl     85\n",
      "3    d   boy     75\n",
      "4    e   boy     80\n"
     ]
    }
   ],
   "source": [
    "# 由于file_name为csv格式，因此定义分隔符为,\n",
    "t1 = pd.read_table(file_name,sep=',')\n",
    "print(t1)\n",
    "\n",
    "# 保存文件\n",
    "t1.to_json('file/new_11.json')"
   ]
  },
  {
   "cell_type": "markdown",
   "metadata": {},
   "source": [
    "### 1.3、读取json文件"
   ]
  },
  {
   "cell_type": "code",
   "execution_count": 8,
   "metadata": {},
   "outputs": [
    {
     "name": "stdout",
     "output_type": "stream",
     "text": [
      "  name   sex\n",
      "0    a   boy\n",
      "1    b  girl\n",
      "2    c  girl\n",
      "3    d   boy\n",
      "4    e   boy\n"
     ]
    }
   ],
   "source": [
    "import json\n",
    "file = 'file/new_11.json'\n",
    "with open(file,'r') as fp:\n",
    "    result = json.load(fp)\n",
    "\n",
    "# 只读取name和sex列\n",
    "t2 = pd.DataFrame(result,columns=['name','sex'])\n",
    "print(t2)"
   ]
  },
  {
   "cell_type": "markdown",
   "metadata": {},
   "source": [
    "## 2、HDF5格式"
   ]
  },
  {
   "cell_type": "code",
   "execution_count": 12,
   "metadata": {
    "collapsed": true
   },
   "outputs": [
    {
     "name": "stdout",
     "output_type": "stream",
     "text": [
      "  name   sex  score\n",
      "0    a   boy     90\n",
      "1    b  girl     80\n",
      "2    c  girl     85\n",
      "3    d   boy     75\n",
      "4    e   boy     80\n"
     ]
    }
   ],
   "source": [
    "# 可以先安装 pip install tables\n",
    "store = pd.HDFStore(\"file/hdf5\")\n",
    "# 先保存\n",
    "# store['f'] = t1\n",
    "# store.close()\n",
    "# 后读取\n",
    "print(store['f'])"
   ]
  },
  {
   "cell_type": "markdown",
   "metadata": {},
   "source": [
    "## 3、读取excel文件"
   ]
  },
  {
   "cell_type": "code",
   "execution_count": 9,
   "metadata": {
    "collapsed": true
   },
   "outputs": [
    {
     "name": "stdout",
     "output_type": "stream",
     "text": [
      "  name   sex  score\n",
      "0    a   boy     90\n",
      "1    b  girl     80\n",
      "2    c  girl     85\n",
      "3    d   boy     75\n",
      "4    e   boy     80\n"
     ]
    }
   ],
   "source": [
    "# 需要先安装 pip install xlrd\n",
    "excel_name = \"file/1.xlsx\"\n",
    "# 载入文件\n",
    "xls = pd.ExcelFile(excel_name)\n",
    "# 解析那个sheet\n",
    "table = xls.parse('1')\n",
    "print(table)"
   ]
  },
  {
   "cell_type": "markdown",
   "metadata": {},
   "source": [
    "## 4、使用数据库\n",
    "**这里以sqlite3为例**"
   ]
  },
  {
   "cell_type": "code",
   "execution_count": 14,
   "metadata": {},
   "outputs": [],
   "source": [
    "import sqlite3\n",
    "table_create = '''\n",
    "    create table test(name varchar(5),sex varchar(5))\n",
    "'''\n",
    "# 创建测试表\n",
    "conn = sqlite3.connect('file/test.db')\n",
    "conn.execute(table_create)\n",
    "conn.commit()\n",
    "\n",
    "# 插入数据\n",
    "data = [('a','boy'),('b','boy'),('c','girl'),('d','boy')]\n",
    "insert_sql = \"insert into test values(?,?)\"\n",
    "conn.executemany(insert_sql,data)\n",
    "conn.commit()"
   ]
  },
  {
   "cell_type": "code",
   "execution_count": 18,
   "metadata": {
    "collapsed": true
   },
   "outputs": [
    {
     "name": "stdout",
     "output_type": "stream",
     "text": [
      "<class 'pandas.core.frame.DataFrame'>\n",
      "  name   sex\n",
      "0    a   boy\n",
      "1    b   boy\n",
      "2    c  girl\n",
      "3    d   boy\n"
     ]
    },
    {
     "data": {
      "text/html": [
       "<div>\n",
       "<style scoped>\n",
       "    .dataframe tbody tr th:only-of-type {\n",
       "        vertical-align: middle;\n",
       "    }\n",
       "\n",
       "    .dataframe tbody tr th {\n",
       "        vertical-align: top;\n",
       "    }\n",
       "\n",
       "    .dataframe thead th {\n",
       "        text-align: right;\n",
       "    }\n",
       "</style>\n",
       "<table border=\"1\" class=\"dataframe\">\n",
       "  <thead>\n",
       "    <tr style=\"text-align: right;\">\n",
       "      <th></th>\n",
       "      <th>name</th>\n",
       "      <th>sex</th>\n",
       "    </tr>\n",
       "  </thead>\n",
       "  <tbody>\n",
       "    <tr>\n",
       "      <th>0</th>\n",
       "      <td>a</td>\n",
       "      <td>boy</td>\n",
       "    </tr>\n",
       "    <tr>\n",
       "      <th>1</th>\n",
       "      <td>b</td>\n",
       "      <td>boy</td>\n",
       "    </tr>\n",
       "    <tr>\n",
       "      <th>2</th>\n",
       "      <td>c</td>\n",
       "      <td>girl</td>\n",
       "    </tr>\n",
       "    <tr>\n",
       "      <th>3</th>\n",
       "      <td>d</td>\n",
       "      <td>boy</td>\n",
       "    </tr>\n",
       "  </tbody>\n",
       "</table>\n",
       "</div>"
      ],
      "text/plain": [
       "  name   sex\n",
       "0    a   boy\n",
       "1    b   boy\n",
       "2    c  girl\n",
       "3    d   boy"
      ]
     },
     "execution_count": 18,
     "metadata": {},
     "output_type": "execute_result"
    }
   ],
   "source": [
    "import pandas.io.sql as sql\n",
    "\n",
    "result = sql.read_sql_query(\"select * from test\",conn)\n",
    "print(type(result))\n",
    "print(result)\n",
    "\n",
    "sql.read_sql(\"select * from test\",conn)"
   ]
  }
 ],
 "metadata": {
  "kernelspec": {
   "display_name": "Python 3",
   "language": "python",
   "name": "python3"
  },
  "language_info": {
   "codemirror_mode": {
    "name": "ipython",
    "version": 3
   },
   "file_extension": ".py",
   "mimetype": "text/x-python",
   "name": "python",
   "nbconvert_exporter": "python",
   "pygments_lexer": "ipython3",
   "version": "3.6.5"
  }
 },
 "nbformat": 4,
 "nbformat_minor": 2
}
