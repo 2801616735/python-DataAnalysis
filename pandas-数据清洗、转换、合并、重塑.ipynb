{
 "cells": [
  {
   "cell_type": "markdown",
   "metadata": {},
   "source": [
    "# 数据清洗、转换、合并、重塑"
   ]
  },
  {
   "cell_type": "code",
   "execution_count": 1,
   "metadata": {},
   "outputs": [],
   "source": [
    "import pandas as pd\n",
    "import numpy as np"
   ]
  },
  {
   "cell_type": "markdown",
   "metadata": {},
   "source": [
    "## 1、合并数据集"
   ]
  },
  {
   "cell_type": "markdown",
   "metadata": {},
   "source": [
    "## 1.1、merge用法\n",
    "**merge可根据一个或多个键将不同的dataframe中的行连接起来**"
   ]
  },
  {
   "cell_type": "code",
   "execution_count": 3,
   "metadata": {
    "collapsed": true
   },
   "outputs": [
    {
     "name": "stdout",
     "output_type": "stream",
     "text": [
      "   data1 key\n",
      "0      0   a\n",
      "1      1   b\n",
      "2      2   d\n",
      "   data2 key\n",
      "0      0   b\n",
      "1      1   b\n",
      "2      2   a\n",
      "3      3   c\n",
      "4      4   a\n",
      "5      5   a\n",
      "6      6   b\n"
     ]
    }
   ],
   "source": [
    "df1 = pd.DataFrame({'data1':range(3),'key1':['a','b','d']})\n",
    "df2 = pd.DataFrame({'data2':range(7),'key1':['b','b','a','c','a','a','b']})\n",
    "print(df1)\n",
    "print(df2)"
   ]
  },
  {
   "cell_type": "code",
   "execution_count": 10,
   "metadata": {
    "collapsed": true
   },
   "outputs": [
    {
     "name": "stdout",
     "output_type": "stream",
     "text": [
      "   data1 key  data2\n",
      "0      0   a      2\n",
      "1      0   a      4\n",
      "2      0   a      5\n",
      "3      1   b      0\n",
      "4      1   b      1\n",
      "5      1   b      6\n",
      "   data1 key  data2\n",
      "0      0   a      2\n",
      "1      0   a      4\n",
      "2      0   a      5\n",
      "3      1   b      0\n",
      "4      1   b      1\n",
      "5      1   b      6\n"
     ]
    }
   ],
   "source": [
    "# 没有指定，因此默认重复的列，作为链接键\n",
    "print(pd.merge(df1,df2))\n",
    "\n",
    "# 显式地指定某个共同键，作为链接\n",
    "print(pd.merge(df1,df2,on='key'))"
   ]
  },
  {
   "cell_type": "code",
   "execution_count": 30,
   "metadata": {
    "collapsed": true
   },
   "outputs": [
    {
     "name": "stdout",
     "output_type": "stream",
     "text": [
      "   data1 key_x  data2 key_y\n",
      "0      0     a      0     b\n",
      "1      1     b      1     b\n",
      "2      2     d      2     a\n",
      "   data1 key  data2\n",
      "0      0   a      2\n",
      "1      0   a      4\n",
      "2      0   a      5\n",
      "3      1   b      0\n",
      "4      1   b      1\n",
      "5      1   b      6\n"
     ]
    }
   ],
   "source": [
    "# 如果键名不一样，可分别指定\n",
    "print(pd.merge(df1,df2,left_on='data1',right_on='data2'))\n",
    "\n",
    "# print(pd.merge(df1,df2,on='key'))的等价写法\n",
    "print(pd.merge(df1,df2,left_on='key',right_on='key'))"
   ]
  },
  {
   "cell_type": "code",
   "execution_count": 35,
   "metadata": {
    "collapsed": true
   },
   "outputs": [
    {
     "name": "stdout",
     "output_type": "stream",
     "text": [
      "   data1 key  data2\n",
      "0      0   a    2.0\n",
      "1      0   a    4.0\n",
      "2      0   a    5.0\n",
      "3      1   b    0.0\n",
      "4      1   b    1.0\n",
      "5      1   b    6.0\n",
      "6      2   d    NaN\n",
      "   data1 key  data2\n",
      "0    0.0   a      2\n",
      "1    0.0   a      4\n",
      "2    0.0   a      5\n",
      "3    1.0   b      0\n",
      "4    1.0   b      1\n",
      "5    1.0   b      6\n",
      "6    NaN   c      3\n",
      "   data1 key  data2\n",
      "0    0.0   a    2.0\n",
      "1    0.0   a    4.0\n",
      "2    0.0   a    5.0\n",
      "3    1.0   b    0.0\n",
      "4    1.0   b    1.0\n",
      "5    1.0   b    6.0\n",
      "6    2.0   d    NaN\n",
      "7    NaN   c    3.0\n"
     ]
    }
   ],
   "source": [
    "# how的值 默认为 inner 即两者的交集\n",
    "\n",
    "#  how: left 即以df1的dataframe为主\n",
    "print(pd.merge(df1,df2,on='key',how='left'))\n",
    "\n",
    "#  how: right 即以df2的dataframe为主\n",
    "print(pd.merge(df1,df2,on='key',how='right'))\n",
    "\n",
    "#  how: outer 即取并集\n",
    "print(pd.merge(df1,df2,on='key',how='outer'))"
   ]
  },
  {
   "cell_type": "code",
   "execution_count": 46,
   "metadata": {},
   "outputs": [
    {
     "name": "stdout",
     "output_type": "stream",
     "text": [
      "  key1  key2  lval\n",
      "0  kv1  kvv1     1\n",
      "1  kv2  kvv2     2\n",
      "2  kv3  kvv3     3\n",
      "  key1  key2  rval\n",
      "0  kv1  kvv1     1\n",
      "1  kv2  kvv2     3\n",
      "2  kv3  kvv3     2\n",
      "3  kv1  kvv4     4\n"
     ]
    }
   ],
   "source": [
    "df3 = pd.DataFrame({'key1':['kv1','kv2','kv3'],'key2':['kvv1','kvv2','kvv3'],'lval':[1,2,3]})\n",
    "df4 = pd.DataFrame({'key1':['kv1','kv2','kv3','kv1'],'key2':['kvv1','kvv2','kvv3','kvv4'],'rval':[1,3,2,4]})\n",
    "print(df3)\n",
    "print(df4)"
   ]
  },
  {
   "cell_type": "code",
   "execution_count": 50,
   "metadata": {
    "collapsed": true
   },
   "outputs": [
    {
     "name": "stdout",
     "output_type": "stream",
     "text": [
      "  key1  key2  lval  rval\n",
      "0  kv1  kvv1     1     1\n",
      "1  kv2  kvv2     2     3\n",
      "2  kv3  kvv3     3     2\n"
     ]
    }
   ],
   "source": [
    "# 以多个相同的键明\n",
    "print( pd.merge(df3,df4,on=['key1','key2']) )"
   ]
  },
  {
   "cell_type": "code",
   "execution_count": 61,
   "metadata": {
    "collapsed": true
   },
   "outputs": [
    {
     "name": "stdout",
     "output_type": "stream",
     "text": [
      "  key  value  data\n",
      "0   a      0     3\n",
      "2   a      2     3\n",
      "3   a      3     3\n",
      "1   b      1     4\n",
      "4   b      4     4\n"
     ]
    },
    {
     "data": {
      "text/html": [
       "<div>\n",
       "<style scoped>\n",
       "    .dataframe tbody tr th:only-of-type {\n",
       "        vertical-align: middle;\n",
       "    }\n",
       "\n",
       "    .dataframe tbody tr th {\n",
       "        vertical-align: top;\n",
       "    }\n",
       "\n",
       "    .dataframe thead th {\n",
       "        text-align: right;\n",
       "    }\n",
       "</style>\n",
       "<table border=\"1\" class=\"dataframe\">\n",
       "  <thead>\n",
       "    <tr style=\"text-align: right;\">\n",
       "      <th></th>\n",
       "      <th>key</th>\n",
       "      <th>value</th>\n",
       "      <th>data</th>\n",
       "    </tr>\n",
       "  </thead>\n",
       "  <tbody>\n",
       "    <tr>\n",
       "      <th>0</th>\n",
       "      <td>a</td>\n",
       "      <td>0.0</td>\n",
       "      <td>NaN</td>\n",
       "    </tr>\n",
       "    <tr>\n",
       "      <th>1</th>\n",
       "      <td>b</td>\n",
       "      <td>1.0</td>\n",
       "      <td>NaN</td>\n",
       "    </tr>\n",
       "    <tr>\n",
       "      <th>2</th>\n",
       "      <td>a</td>\n",
       "      <td>2.0</td>\n",
       "      <td>NaN</td>\n",
       "    </tr>\n",
       "    <tr>\n",
       "      <th>3</th>\n",
       "      <td>a</td>\n",
       "      <td>3.0</td>\n",
       "      <td>NaN</td>\n",
       "    </tr>\n",
       "    <tr>\n",
       "      <th>4</th>\n",
       "      <td>b</td>\n",
       "      <td>4.0</td>\n",
       "      <td>NaN</td>\n",
       "    </tr>\n",
       "    <tr>\n",
       "      <th>5</th>\n",
       "      <td>c</td>\n",
       "      <td>5.0</td>\n",
       "      <td>NaN</td>\n",
       "    </tr>\n",
       "    <tr>\n",
       "      <th>a</th>\n",
       "      <td>NaN</td>\n",
       "      <td>NaN</td>\n",
       "      <td>3.0</td>\n",
       "    </tr>\n",
       "    <tr>\n",
       "      <th>b</th>\n",
       "      <td>NaN</td>\n",
       "      <td>NaN</td>\n",
       "      <td>4.0</td>\n",
       "    </tr>\n",
       "  </tbody>\n",
       "</table>\n",
       "</div>"
      ],
      "text/plain": [
       "   key  value  data\n",
       "0    a    0.0   NaN\n",
       "1    b    1.0   NaN\n",
       "2    a    2.0   NaN\n",
       "3    a    3.0   NaN\n",
       "4    b    4.0   NaN\n",
       "5    c    5.0   NaN\n",
       "a  NaN    NaN   3.0\n",
       "b  NaN    NaN   4.0"
      ]
     },
     "execution_count": 61,
     "metadata": {},
     "output_type": "execute_result"
    }
   ],
   "source": [
    "# 索引上的合并\n",
    "df5 = pd.DataFrame({'key':['a','b','a','a','b','c'],'value':range(6)})\n",
    "df6 = pd.DataFrame({'data':[3,4]},index=['a','b'])\n",
    "\n",
    "# 即左边以key为依据，右边以df6的索引值为依据\n",
    "print(pd.merge(df5,df6,left_on='key',right_index=True))\n",
    "\n",
    "# 之间以df5/df6的索引值为依据\n",
    "df5.join(df6,how='outer')"
   ]
  },
  {
   "cell_type": "markdown",
   "metadata": {},
   "source": [
    "## 1.2、concat\n",
    "**concat可以沿着一条轴将多个对象堆叠到一起**"
   ]
  },
  {
   "cell_type": "code",
   "execution_count": 89,
   "metadata": {},
   "outputs": [
    {
     "name": "stdout",
     "output_type": "stream",
     "text": [
      "<class 'pandas.core.frame.DataFrame'>\n",
      "   bb  cc\n",
      "a   1   3\n",
      "b   2   4\n"
     ]
    }
   ],
   "source": [
    "# 各个series不同的情况\n",
    "s1 = pd.Series([1,2],index=['a','b'])\n",
    "s2 = pd.Series([3,4,5],index=['c','d','e'])\n",
    "s3 = pd.Series([6,7],index=['f','g'])\n",
    "\n",
    "# axis=0 连接后类型不变\n",
    "# print(pd.concat([s1,s2,s3]))\n",
    "\n",
    "# axis=1 连接后的类型为 dataframe\n",
    "# print(pd.concat([s1,s2,s3],axis=1,sort=True))\n",
    "\n",
    "\n",
    "# 相同索引的series\n",
    "s1 = pd.Series([1,2],index=['a','b'])\n",
    "s2 = pd.Series([3,4],index=['a','b'])\n",
    "# 合并时指定 dataframe列索引\n",
    "tmp = pd.concat([s1,s2],axis=1,keys=['bb','cc'])\n",
    "print(type(tmp))\n",
    "print(tmp)"
   ]
  },
  {
   "cell_type": "code",
   "execution_count": 94,
   "metadata": {
    "collapsed": true
   },
   "outputs": [
    {
     "data": {
      "text/html": [
       "<div>\n",
       "<style scoped>\n",
       "    .dataframe tbody tr th:only-of-type {\n",
       "        vertical-align: middle;\n",
       "    }\n",
       "\n",
       "    .dataframe tbody tr th {\n",
       "        vertical-align: top;\n",
       "    }\n",
       "\n",
       "    .dataframe thead th {\n",
       "        text-align: right;\n",
       "    }\n",
       "</style>\n",
       "<table border=\"1\" class=\"dataframe\">\n",
       "  <thead>\n",
       "    <tr style=\"text-align: right;\">\n",
       "      <th></th>\n",
       "      <th>four</th>\n",
       "      <th>one</th>\n",
       "      <th>three</th>\n",
       "      <th>two</th>\n",
       "    </tr>\n",
       "  </thead>\n",
       "  <tbody>\n",
       "    <tr>\n",
       "      <th>a</th>\n",
       "      <td>NaN</td>\n",
       "      <td>0.0</td>\n",
       "      <td>NaN</td>\n",
       "      <td>1.0</td>\n",
       "    </tr>\n",
       "    <tr>\n",
       "      <th>b</th>\n",
       "      <td>NaN</td>\n",
       "      <td>2.0</td>\n",
       "      <td>NaN</td>\n",
       "      <td>3.0</td>\n",
       "    </tr>\n",
       "    <tr>\n",
       "      <th>c</th>\n",
       "      <td>NaN</td>\n",
       "      <td>4.0</td>\n",
       "      <td>NaN</td>\n",
       "      <td>5.0</td>\n",
       "    </tr>\n",
       "    <tr>\n",
       "      <th>a</th>\n",
       "      <td>1.0</td>\n",
       "      <td>NaN</td>\n",
       "      <td>0.0</td>\n",
       "      <td>NaN</td>\n",
       "    </tr>\n",
       "    <tr>\n",
       "      <th>c</th>\n",
       "      <td>3.0</td>\n",
       "      <td>NaN</td>\n",
       "      <td>2.0</td>\n",
       "      <td>NaN</td>\n",
       "    </tr>\n",
       "  </tbody>\n",
       "</table>\n",
       "</div>"
      ],
      "text/plain": [
       "   four  one  three  two\n",
       "a   NaN  0.0    NaN  1.0\n",
       "b   NaN  2.0    NaN  3.0\n",
       "c   NaN  4.0    NaN  5.0\n",
       "a   1.0  NaN    0.0  NaN\n",
       "c   3.0  NaN    2.0  NaN"
      ]
     },
     "execution_count": 94,
     "metadata": {},
     "output_type": "execute_result"
    }
   ],
   "source": [
    "# 操作dataframe\n",
    "p1 = pd.DataFrame(np.arange(6).reshape(3,2),index=['a','b','c'],columns=['one','two'])\n",
    "p2 = pd.DataFrame(np.arange(4).reshape(2,2),index=['a','c'],columns=['three','four'])\n",
    "pd.concat([p1,p2],sort=True)"
   ]
  },
  {
   "cell_type": "markdown",
   "metadata": {},
   "source": [
    "## 2、旋转\n",
    "**stack: 将数据的列'旋转'为行**\n",
    "\n",
    "**unstack: 将数据的行'旋转'为列**\n",
    "\n",
    "*即实现series与dataframe相互转换*"
   ]
  },
  {
   "cell_type": "code",
   "execution_count": 102,
   "metadata": {
    "collapsed": true
   },
   "outputs": [
    {
     "name": "stdout",
     "output_type": "stream",
     "text": [
      "   a  b\n",
      "0  0  1\n",
      "1  2  3\n",
      "<class 'pandas.core.series.Series'>\n",
      "0  a    0\n",
      "   b    1\n",
      "1  a    2\n",
      "   b    3\n",
      "dtype: int32\n",
      "<class 'pandas.core.frame.DataFrame'>\n",
      "   a  b\n",
      "0  0  1\n",
      "1  2  3\n"
     ]
    }
   ],
   "source": [
    "p1 = pd.DataFrame(np.arange(4).reshape(2,2),columns=['a','b'])\n",
    "print(p1)\n",
    "\n",
    "# 转换成series\n",
    "tmp = p1.stack()\n",
    "print(type(tmp))\n",
    "print(tmp)\n",
    "\n",
    "# 转换成dataframe\n",
    "tmp = tmp.unstack()\n",
    "print(type(tmp))\n",
    "print(tmp)\n"
   ]
  },
  {
   "cell_type": "markdown",
   "metadata": {},
   "source": [
    "## 3、数据转换"
   ]
  },
  {
   "cell_type": "code",
   "execution_count": 108,
   "metadata": {
    "collapsed": true
   },
   "outputs": [
    {
     "name": "stdout",
     "output_type": "stream",
     "text": [
      "  k1  k2\n",
      "0  a   1\n",
      "1  a   1\n",
      "2  a   2\n",
      "3  b   2\n",
      "4  b   3\n",
      "5  b   4\n",
      "6  b   4\n",
      "0    False\n",
      "1     True\n",
      "2    False\n",
      "3    False\n",
      "4    False\n",
      "5    False\n",
      "6     True\n",
      "dtype: bool\n",
      "  k1  k2\n",
      "0  a   1\n",
      "2  a   2\n",
      "3  b   2\n",
      "4  b   3\n",
      "5  b   4\n",
      "  k1  k2\n",
      "1  a   1\n",
      "2  a   2\n",
      "3  b   2\n",
      "4  b   3\n",
      "6  b   4\n",
      "  k1  k2\n",
      "2  a   2\n",
      "6  b   4\n"
     ]
    }
   ],
   "source": [
    "# 移除重复数据\n",
    "data = pd.DataFrame({'k1':['a']*3+['b']*4,'k2':[1,1,2,2,3,4,4]})\n",
    "print(data)\n",
    "\n",
    "# 判断是否出现重复值\n",
    "# duplicated 返回一个布尔类型的series，以第一个值为依据\n",
    "print(data.duplicated())\n",
    "\n",
    "# 删除重复的值，保留相同的第一个\n",
    "print(data.drop_duplicates())\n",
    "\n",
    "# 删除重复的值，保留相同的最后一个\n",
    "print(data.drop_duplicates(keep='last'))\n",
    "\n",
    "# 删除指定列，保留相同的最后一个\n",
    "print(data.drop_duplicates(['k1'],keep='last'))"
   ]
  },
  {
   "cell_type": "code",
   "execution_count": 111,
   "metadata": {
    "collapsed": true
   },
   "outputs": [
    {
     "name": "stdout",
     "output_type": "stream",
     "text": [
      "  name   sex  score\n",
      "0    a   boy     90\n",
      "1    b  girl     80\n",
      "2    c   boy     75\n",
      "3    d   boy     70\n",
      "  name   sex  score\n",
      "0    a   boy     90\n",
      "1    b  girl     80\n",
      "2    c   boy     75\n",
      "3    d   boy     70\n"
     ]
    }
   ],
   "source": [
    "# 使用函数进行转换\n",
    "data = pd.DataFrame({'name':['a','b','c','d'],'sex':['boy','girl','boy','boy']})\n",
    "# 增加一列，根据name的值，获取每个人的分数\n",
    "scores = {\n",
    "    'a' : 90,\n",
    "    'b' : 80,\n",
    "    'c' : 75,\n",
    "    'd' : 70\n",
    "}\n",
    "data['score'] = data['name'].map(scores)\n",
    "print(data)\n",
    "\n",
    "# 传入匿名函数\n",
    "data['score'] = data['name'].map(lambda x: scores[x])\n",
    "print(data)\n"
   ]
  },
  {
   "cell_type": "code",
   "execution_count": 115,
   "metadata": {
    "collapsed": true
   },
   "outputs": [
    {
     "name": "stdout",
     "output_type": "stream",
     "text": [
      "0    1\n",
      "1    4\n",
      "2    2\n",
      "3    4\n",
      "4    3\n",
      "dtype: int64\n",
      "[(18, 25], (18, 25], (18, 25], (18, 25], (25, 30], (18, 25], (30, 60], (30, 60], (30, 60], (30, 60]]\n",
      "Categories (3, interval[int64]): [(18, 25] < (25, 30] < (30, 60]]\n",
      "(18, 25]    5\n",
      "(30, 60]    4\n",
      "(25, 30]    1\n",
      "dtype: int64\n"
     ]
    }
   ],
   "source": [
    "# 值替换\n",
    "\n",
    "data = pd.Series([1,100,2,100,3])\n",
    "\n",
    "# 把100 替换成4\n",
    "print(data.replace(100,4))\n",
    "\n",
    "\n",
    "# 区间个数统计\n",
    "ages = [20,22,21,25,30,21,35,45,50,60]\n",
    "bi = [18,25,30,60]\n",
    "cuts = pd.cut(ages,bi)\n",
    "print(cuts)\n",
    "print(pd.value_counts(cuts))"
   ]
  },
  {
   "cell_type": "markdown",
   "metadata": {},
   "source": [
    "## 4、字符串函数"
   ]
  },
  {
   "cell_type": "code",
   "execution_count": 127,
   "metadata": {},
   "outputs": [
    {
     "name": "stdout",
     "output_type": "stream",
     "text": [
      "a    hello world\n",
      "b          world\n",
      "c          hello\n",
      "d     hello haha\n",
      "dtype: object\n",
      "a     True\n",
      "b    False\n",
      "c     True\n",
      "d     True\n",
      "dtype: bool\n",
      "0    1\n",
      "1    1\n",
      "2    0\n",
      "3    1\n",
      "4    0\n",
      "5    0\n",
      "6    0\n",
      "dtype: int64\n"
     ]
    }
   ],
   "source": [
    "s1 = pd.Series({'a':'hello world','b':'world','c':'hello','d':'hello haha'})\n",
    "print(s1)\n",
    "\n",
    "# 是否包含\n",
    "print(s1.str.contains('hello'))\n",
    "\n",
    "s2 = pd.Series([1,1,2,1,2,3,4],dtype='str')\n",
    "# 出现的次数\n",
    "print(s2.str.count('1'))"
   ]
  }
 ],
 "metadata": {
  "kernelspec": {
   "display_name": "Python 3",
   "language": "python",
   "name": "python3"
  },
  "language_info": {
   "codemirror_mode": {
    "name": "ipython",
    "version": 3
   },
   "file_extension": ".py",
   "mimetype": "text/x-python",
   "name": "python",
   "nbconvert_exporter": "python",
   "pygments_lexer": "ipython3",
   "version": "3.6.5"
  }
 },
 "nbformat": 4,
 "nbformat_minor": 2
}
