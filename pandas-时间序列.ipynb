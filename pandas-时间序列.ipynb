{
 "cells": [
  {
   "cell_type": "markdown",
   "metadata": {},
   "source": [
    "# 时间序列"
   ]
  },
  {
   "cell_type": "markdown",
   "metadata": {},
   "source": [
    "## 1、日期与时间数据类型"
   ]
  },
  {
   "cell_type": "code",
   "execution_count": 20,
   "metadata": {},
   "outputs": [],
   "source": [
    "from datetime import datetime\n",
    "import pandas as pd\n",
    "import numpy as np"
   ]
  },
  {
   "cell_type": "code",
   "execution_count": 6,
   "metadata": {
    "collapsed": true
   },
   "outputs": [
    {
     "name": "stdout",
     "output_type": "stream",
     "text": [
      "2018-06-06 21:50:02.871295\n",
      "2018 6 6 21\n",
      "7\n"
     ]
    }
   ],
   "source": [
    "now = datetime.now()\n",
    "\n",
    "print(now)\n",
    "\n",
    "# 分别打印各个属性\n",
    "print(now.year,now.month,now.day,now.hour)\n",
    "\n",
    "# 两个datetime之差\n",
    "d1 = datetime(2018,6,8)\n",
    "d2 = datetime(2018,6,1)\n",
    "ds = d1 - d2\n",
    "print(ds.days)"
   ]
  },
  {
   "cell_type": "markdown",
   "metadata": {},
   "source": [
    "## 1.1、字符串与datetime相互转换"
   ]
  },
  {
   "cell_type": "code",
   "execution_count": 15,
   "metadata": {
    "collapsed": true
   },
   "outputs": [
    {
     "name": "stdout",
     "output_type": "stream",
     "text": [
      "2018-06-08 00:00:00\n",
      "2018-06-08\n",
      "2018-06-08 00:00:00\n"
     ]
    }
   ],
   "source": [
    "# datetime ==> str\n",
    "s = str(d1)\n",
    "print(s)\n",
    "print(d1.strftime('%Y-%m-%d'))\n",
    "\n",
    "# str ==> datetime\n",
    "s1 = '2018-6-8'\n",
    "dp = datetime.strptime(s1,'%Y-%m-%d')\n",
    "print(dp)"
   ]
  },
  {
   "cell_type": "markdown",
   "metadata": {},
   "source": [
    "## 2、pandas时间序列基础"
   ]
  },
  {
   "cell_type": "code",
   "execution_count": 17,
   "metadata": {},
   "outputs": [
    {
     "data": {
      "text/plain": [
       "DatetimeIndex(['2018-06-08'], dtype='datetime64[ns]', freq=None)"
      ]
     },
     "execution_count": 17,
     "metadata": {},
     "output_type": "execute_result"
    }
   ],
   "source": [
    "pd.to_datetime(['2018-6-8'])"
   ]
  },
  {
   "cell_type": "code",
   "execution_count": 24,
   "metadata": {
    "collapsed": true
   },
   "outputs": [
    {
     "name": "stdout",
     "output_type": "stream",
     "text": [
      "2018-06-01    1\n",
      "2018-06-02    2\n",
      "2018-06-03    3\n",
      "2018-06-04    4\n",
      "dtype: int64\n",
      "DatetimeIndex(['2018-06-01', '2018-06-02', '2018-06-03', '2018-06-04'], dtype='datetime64[ns]', freq=None)\n",
      "2018-06-01    5\n",
      "2018-06-02    3\n",
      "2018-06-03    2\n",
      "2018-06-04    3\n",
      "2018-06-05    8\n",
      "2018-06-06    7\n",
      "2018-06-07    2\n",
      "2018-06-08    9\n",
      "2018-06-09    5\n",
      "2018-06-10    4\n",
      "Freq: D, dtype: int64\n",
      "2018-06-01    7\n",
      "2018-06-02    3\n",
      "2018-06-01    1\n",
      "2018-06-02    0\n",
      "2018-06-03    2\n",
      "dtype: int64\n"
     ]
    }
   ],
   "source": [
    "dates = [datetime(2018,6,1),datetime(2018,6,2),datetime(2018,6,3),datetime(2018,6,4)]\n",
    "s1 = pd.Series([1,2,3,4],index=dates)\n",
    "print(s1)\n",
    "print(s1.index)\n",
    "\n",
    "s2 = pd.Series(np.random.randint(0,10,10),index=pd.date_range('2018-6-1',periods=10))\n",
    "print(s2)\n",
    "\n",
    "date1 = [datetime(2018,6,1),datetime(2018,6,2),datetime(2018,6,1),datetime(2018,6,2),datetime(2018,6,3)]\n",
    "s3 = pd.Series(np.random.randint(0,10,5),index=date1)\n",
    "print(s3)"
   ]
  },
  {
   "cell_type": "code",
   "execution_count": 34,
   "metadata": {
    "collapsed": true
   },
   "outputs": [
    {
     "name": "stdout",
     "output_type": "stream",
     "text": [
      "1\n",
      "2018-06-01    1\n",
      "2018-06-02    2\n",
      "dtype: int64\n",
      "2018-06-01    1\n",
      "2018-06-02    2\n",
      "2018-06-03    3\n",
      "dtype: int64\n"
     ]
    },
    {
     "data": {
      "text/plain": [
       "2018-06-01    8\n",
       "2018-06-02    3\n",
       "2018-06-03    2\n",
       "dtype: int64"
      ]
     },
     "execution_count": 34,
     "metadata": {},
     "output_type": "execute_result"
    }
   ],
   "source": [
    "# 索引操作\n",
    "\n",
    "# 获取单个索引\n",
    "s1_index = s1.index[0]\n",
    "print(s1[s1_index])\n",
    "\n",
    "# 索引值切片\n",
    "print(s1[0:2])\n",
    "\n",
    "# 索引值时间切片\n",
    "print(s1['2018-6-1':'2018-6-3'])\n",
    "\n",
    "# 设置索引的唯一一层\n",
    "s3.groupby(level=0).sum()"
   ]
  },
  {
   "cell_type": "markdown",
   "metadata": {},
   "source": [
    "### 2.1、日期频率问题"
   ]
  },
  {
   "cell_type": "code",
   "execution_count": 51,
   "metadata": {},
   "outputs": [
    {
     "name": "stdout",
     "output_type": "stream",
     "text": [
      "2018-05-02    1.0\n",
      "2018-05-03    NaN\n",
      "2018-05-04    NaN\n",
      "2018-05-05    2.0\n",
      "2018-05-06    NaN\n",
      "2018-05-07    3.0\n",
      "2018-05-08    4.0\n",
      "2018-05-09    NaN\n",
      "2018-05-10    5.0\n",
      "2018-05-11    NaN\n",
      "2018-05-12    6.0\n",
      "Freq: D, dtype: float64\n",
      "2018-05-02    NaN\n",
      "2018-05-05    NaN\n",
      "2018-05-07    1.0\n",
      "2018-05-08    2.0\n",
      "2018-05-10    3.0\n",
      "2018-05-12    4.0\n",
      "dtype: float64\n",
      "2018-05-02    3.0\n",
      "2018-05-05    4.0\n",
      "2018-05-07    5.0\n",
      "2018-05-08    6.0\n",
      "2018-05-10    NaN\n",
      "2018-05-12    NaN\n",
      "dtype: float64\n"
     ]
    }
   ],
   "source": [
    "dates = [datetime(2018,5,2),datetime(2018,5,5),datetime(2018,5,7),\n",
    "         datetime(2018,5,8),datetime(2018,5,10),datetime(2018,5,12)]\n",
    "s1 = pd.Series([1,2,3,4,5,6],index=dates)\n",
    "# print(s1)\n",
    "\n",
    "# 频率\n",
    "print(s1.resample('D').max())\n",
    "\n",
    "# 往后移动2位\n",
    "print(s1.shift(2))\n",
    "\n",
    "# 往前移动2位\n",
    "print(s1.shift(-2))"
   ]
  }
 ],
 "metadata": {
  "kernelspec": {
   "display_name": "Python 3",
   "language": "python",
   "name": "python3"
  },
  "language_info": {
   "codemirror_mode": {
    "name": "ipython",
    "version": 3
   },
   "file_extension": ".py",
   "mimetype": "text/x-python",
   "name": "python",
   "nbconvert_exporter": "python",
   "pygments_lexer": "ipython3",
   "version": "3.6.5"
  }
 },
 "nbformat": 4,
 "nbformat_minor": 2
}
