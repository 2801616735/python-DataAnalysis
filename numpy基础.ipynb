{
 "cells": [
  {
   "cell_type": "markdown",
   "metadata": {},
   "source": [
    "# 一、Numpy基础"
   ]
  },
  {
   "cell_type": "code",
   "execution_count": 1,
   "metadata": {},
   "outputs": [],
   "source": [
    "import numpy as np"
   ]
  },
  {
   "cell_type": "markdown",
   "metadata": {},
   "source": [
    "## 1、创建ndarray"
   ]
  },
  {
   "cell_type": "code",
   "execution_count": 63,
   "metadata": {},
   "outputs": [],
   "source": [
    "# 列表进行创建 一维数组\n",
    "data1 = [1,3,5,2,4]\n",
    "arr1 = np.array(data1)\n",
    "# print(arr1)\n",
    "# print(type(arr1))\n",
    "\n",
    "# 列表创建二维数组\n",
    "data2 = [[1,3,5,2,4],[2,5,1,2]]\n",
    "arr2 = np.array(data1)\n",
    "# print(arr1)\n",
    "\n",
    "# 创建全0一维数组\n",
    "z1 = np.zeros(10)\n",
    "# print(z1)\n",
    "\n",
    "# 创建全0二维数组\n",
    "z2 = np.zeros((2,2))\n",
    "# print(z2)\n",
    "\n",
    "# 创建全1一维数组\n",
    "o1 = np.ones(10)\n",
    "# print(o1)\n",
    "\n",
    "# 创建全1二维数组\n",
    "o2 = np.ones((2,2))\n",
    "# print(o2)\n",
    "\n",
    "# 随机创建5个 0到1之间的一维数组\n",
    "r1 = np.random.rand(5)\n",
    "# print(r1)\n",
    "\n",
    "# 随机创建5个 0到1之间的一维数组\n",
    "r2 = np.random.random(5)\n",
    "# print(r2)\n",
    "\n",
    "# 随机创建2*2个 0到1之间的二维数组\n",
    "r3 = np.random.random((2,2))\n",
    "# print(r3)\n",
    "\n",
    "# 随机获取一个从 1到10之间的整数\n",
    "r4 = np.random.randint(1,10)\n",
    "# print(r4)\n",
    "\n",
    "# 随机获取两个从 1到10之间的整数\n",
    "r5 = np.random.randint(1,10,2)\n",
    "# print(r5)\n",
    "\n",
    "# 类似range操作\n",
    "r6 = np.arange(10)\n",
    "# print(r6)"
   ]
  },
  {
   "cell_type": "markdown",
   "metadata": {},
   "source": [
    "## 2、ndarray属性"
   ]
  },
  {
   "cell_type": "code",
   "execution_count": 49,
   "metadata": {
    "collapsed": true
   },
   "outputs": [
    {
     "name": "stdout",
     "output_type": "stream",
     "text": [
      "2\n",
      "(2, 2)\n",
      "float64\n"
     ]
    }
   ],
   "source": [
    "# 维度\n",
    "print(z2.ndim)\n",
    "\n",
    "# 形状\n",
    "print(z2.shape)\n",
    "\n",
    "# 类型\n",
    "print(z2.dtype)"
   ]
  },
  {
   "cell_type": "markdown",
   "metadata": {},
   "source": [
    "## 3、ndarray类型"
   ]
  },
  {
   "cell_type": "code",
   "execution_count": 55,
   "metadata": {
    "collapsed": true
   },
   "outputs": [
    {
     "name": "stdout",
     "output_type": "stream",
     "text": [
      "[1 3 4]\n"
     ]
    }
   ],
   "source": [
    "# 整形\n",
    "arr3 = np.array([1,3,4],dtype=np.int)\n",
    "# print(arr3)\n",
    "\n",
    "# 浮点型\n",
    "arr4 = np.array([1,3,4],dtype=np.float)\n",
    "# print(arr4)\n",
    "\n",
    "# 类型转换\n",
    "arr5 = arr4.astype(np.int)\n",
    "print(arr5)"
   ]
  },
  {
   "cell_type": "markdown",
   "metadata": {},
   "source": [
    "## 4、数组运算"
   ]
  },
  {
   "cell_type": "code",
   "execution_count": 60,
   "metadata": {
    "collapsed": true
   },
   "outputs": [
    {
     "name": "stdout",
     "output_type": "stream",
     "text": [
      "[[3 4 5]\n",
      " [5 6 7]]\n",
      "[[ 1  4  9]\n",
      " [ 9 16 25]]\n"
     ]
    }
   ],
   "source": [
    "arr6 = np.array([[1,2,3],[3,4,5]])\n",
    "# 加2\n",
    "print(arr6+2)\n",
    "# 相乘\n",
    "print(arr6 * arr6)"
   ]
  },
  {
   "cell_type": "markdown",
   "metadata": {},
   "source": [
    "## 5、索引和切片"
   ]
  },
  {
   "cell_type": "markdown",
   "metadata": {},
   "source": [
    "### 5.1、一维数组\n",
    "* 如果ndarray是一维数组，则与python列表切片功能相似"
   ]
  },
  {
   "cell_type": "code",
   "execution_count": 76,
   "metadata": {
    "collapsed": true
   },
   "outputs": [
    {
     "name": "stdout",
     "output_type": "stream",
     "text": [
      "[5 6 7]\n",
      "[ 5 66  7]\n",
      "[0 1 2 3 4 5 6 7 8 9]\n"
     ]
    }
   ],
   "source": [
    "arr = np.arange(10)\n",
    "\n",
    "# 索引0\n",
    "# print(arr[0])\n",
    "\n",
    "# 索引最后一个元素\n",
    "# print(arr[-1])\n",
    "\n",
    "# 切片 获取第一道第三个元素\n",
    "# print(arr[0:3])\n",
    "\n",
    "# 切片应该要注意，只是引用，因此修改数组元素，原有数组会进行更改\n",
    "# arr_slice = arr[5:8]\n",
    "# print(arr_slice)\n",
    "# arr_slice[1] = 66\n",
    "# print(arr_slice)\n",
    "# print(arr)\n",
    "\n",
    "# 采用copy\n",
    "arr_slice1 = arr[5:8].copy()\n",
    "print(arr_slice1)\n",
    "arr_slice1[1] = 66\n",
    "print(arr_slice1)\n",
    "print(arr)"
   ]
  },
  {
   "cell_type": "markdown",
   "metadata": {},
   "source": [
    "### 5.2、二维数组"
   ]
  },
  {
   "cell_type": "code",
   "execution_count": 90,
   "metadata": {
    "collapsed": true
   },
   "outputs": [
    {
     "name": "stdout",
     "output_type": "stream",
     "text": [
      "[[2 5 4]\n",
      " [8 6 8]\n",
      " [9 3 4]]\n",
      "[4 8]\n"
     ]
    }
   ],
   "source": [
    "# 构造3*3 二维数组\n",
    "arr2 = np.random.randint(1,10,(3,3))\n",
    "print(arr2)\n",
    "\n",
    "# 打印第二行\n",
    "# print(arr2[1])\n",
    "\n",
    "# 打印第二行，第二列 写法一\n",
    "# print(arr2[1][1])\n",
    "# 打印第二行，第二列 写法二\n",
    "# print(arr2[1,1])\n",
    "\n",
    "# 切片操作，获取第一、二行数据\n",
    "# print(arr2[:2])\n",
    "\n",
    "# 获取所有行，第二列的全部数据\n",
    "# print(arr2[:,1])\n",
    "\n",
    "# 获取前两行，最后一列的数组\n",
    "print(arr2[0:2,-1])"
   ]
  },
  {
   "cell_type": "markdown",
   "metadata": {},
   "source": [
    "### 5.3、布尔索引"
   ]
  },
  {
   "cell_type": "code",
   "execution_count": 93,
   "metadata": {
    "collapsed": true
   },
   "outputs": [
    {
     "name": "stdout",
     "output_type": "stream",
     "text": [
      "[-0.1622173   0.67579202 -1.44064737 -0.44373176 -0.34189905  0.49544518\n",
      " -2.47710611  1.40761469  0.64472034]\n",
      "[0.67579202 0.49544518 1.40761469 0.64472034]\n"
     ]
    }
   ],
   "source": [
    "arr = np.random.randn(9)\n",
    "print(arr)\n",
    "# 打印大于0\n",
    "print(arr[arr>0])"
   ]
  },
  {
   "cell_type": "markdown",
   "metadata": {},
   "source": [
    "## 6、数组转置"
   ]
  },
  {
   "cell_type": "code",
   "execution_count": 106,
   "metadata": {},
   "outputs": [
    {
     "name": "stdout",
     "output_type": "stream",
     "text": [
      "[[0 2]\n",
      " [1 3]]\n",
      "[[0 1]\n",
      " [2 3]]\n"
     ]
    }
   ],
   "source": [
    "# 转置成 3*5的二维数组\n",
    "arr = np.arange(15).reshape((3,5))\n",
    "# print(arr)\n",
    "\n",
    "arr1 =  np.arange(4).reshape((2,2))\n",
    "# print(arr1)\n",
    "# 横轴转置 写法一\n",
    "# print(arr1.T)\n",
    "# 横轴转置 写法二\n",
    "# print(arr1.transpose())\n",
    "arrt = arr1.transpose()\n",
    "print(arrt)\n",
    "\n",
    "# 在二维数组中，axis=0 则是代表从上往下看 axis=1 则是代表从左往右看\n",
    "print(arrt.transpose(1,0))"
   ]
  }
 ],
 "metadata": {
  "kernelspec": {
   "display_name": "Python 3",
   "language": "python",
   "name": "python3"
  },
  "language_info": {
   "codemirror_mode": {
    "name": "ipython",
    "version": 3
   },
   "file_extension": ".py",
   "mimetype": "text/x-python",
   "name": "python",
   "nbconvert_exporter": "python",
   "pygments_lexer": "ipython3",
   "version": "3.6.5"
  }
 },
 "nbformat": 4,
 "nbformat_minor": 2
}
