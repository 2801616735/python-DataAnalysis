{
 "cells": [
  {
   "cell_type": "markdown",
   "metadata": {},
   "source": [
    "# 一、Series结构\n",
    "**类似于一维数组对象，它由一组数据(各种numpy数据类型)以及一组与之相关的数据标签(即索引)组成**"
   ]
  },
  {
   "cell_type": "code",
   "execution_count": 1,
   "metadata": {},
   "outputs": [],
   "source": [
    "import pandas as pd"
   ]
  },
  {
   "cell_type": "markdown",
   "metadata": {},
   "source": [
    "## 1、创建"
   ]
  },
  {
   "cell_type": "code",
   "execution_count": 4,
   "metadata": {
    "collapsed": true
   },
   "outputs": [
    {
     "name": "stdout",
     "output_type": "stream",
     "text": [
      "0    a\n",
      "1    1\n",
      "2    b\n",
      "3    2\n",
      "dtype: object\n",
      "['a' 1 'b' 2]\n",
      "RangeIndex(start=0, stop=4, step=1)\n"
     ]
    }
   ],
   "source": [
    "# 简单series 由列表进行创建\n",
    "s1 = pd.Series(['a',1,'b',2])\n",
    "print(s1)\n",
    "\n",
    "# 单独打印值\n",
    "print(s1.values)\n",
    "\n",
    "# 单独打印索引\n",
    "print(s1.index)"
   ]
  },
  {
   "cell_type": "code",
   "execution_count": 8,
   "metadata": {
    "collapsed": true
   },
   "outputs": [
    {
     "name": "stdout",
     "output_type": "stream",
     "text": [
      "a    小明\n",
      "b    小红\n",
      "c    小华\n",
      "d    小贝\n",
      "dtype: object\n",
      "True\n"
     ]
    }
   ],
   "source": [
    "# 指定索引\n",
    "s2 = pd.Series(['小明','小红','小华','小贝'],index=['a','b','c','d'])\n",
    "print(s2)\n",
    "\n",
    "# 判断索引是否存在\n",
    "print('a' in s2)"
   ]
  },
  {
   "cell_type": "code",
   "execution_count": 13,
   "metadata": {
    "collapsed": true
   },
   "outputs": [
    {
     "name": "stdout",
     "output_type": "stream",
     "text": [
      "name    xiaobei\n",
      "sex         man\n",
      "dtype: object\n",
      "name    [a, b]\n",
      "sex     [w, m]\n",
      "dtype: object\n",
      "name     xiaobei\n",
      "sex          man\n",
      "extra        NaN\n",
      "dtype: object\n"
     ]
    }
   ],
   "source": [
    "# 字典创建\n",
    "s3 = pd.Series({'name':'xiaobei','sex':'man'})\n",
    "print(s3)\n",
    "\n",
    "s4 = pd.Series({'name':['a','b'],'sex':['w','m']})\n",
    "print(s4)\n",
    "\n",
    "s5 = pd.Series({'name':'xiaobei','sex':'man'},index=['name','sex','extra'])\n",
    "print(s5)"
   ]
  },
  {
   "cell_type": "markdown",
   "metadata": {},
   "source": [
    "## 2、索引操作"
   ]
  },
  {
   "cell_type": "code",
   "execution_count": 57,
   "metadata": {},
   "outputs": [
    {
     "name": "stdout",
     "output_type": "stream",
     "text": [
      "a    xiaobei\n",
      "b          1\n",
      "c          b\n",
      "d          2\n",
      "dtype: object\n",
      "2    3\n",
      "3    4\n",
      "dtype: int64\n"
     ]
    }
   ],
   "source": [
    "s1 = pd.Series(['a',1,'b',2])\n",
    "# print(s1)\n",
    "\n",
    "# 索引值\n",
    "# print(s1[0])\n",
    "\n",
    "# 切片操作\n",
    "# print(s1[0:3])\n",
    "\n",
    "# 修改索引值\n",
    "s1.index = ['a','b','c','d']\n",
    "# print(s1)\n",
    "\n",
    "# 重新索引 => 创建一个适应新索引的新对象\n",
    "s2 = s1.reindex(['a','b','c'])\n",
    "# print(s2)\n",
    "\n",
    "# 删除某索引\n",
    "# print(s1.drop('c'))\n",
    "\n",
    "# 打印索引a和d的值\n",
    "# print(s1[['a','d']])\n",
    "\n",
    "# 赋值\n",
    "s1['a'] = 'xiaobei'\n",
    "print(s1)\n",
    "\n",
    "# 布尔索引\n",
    "s3 = pd.Series([1,2,3,4])\n",
    "print(s3[s3>2])"
   ]
  }
 ],
 "metadata": {
  "kernelspec": {
   "display_name": "Python 3",
   "language": "python",
   "name": "python3"
  },
  "language_info": {
   "codemirror_mode": {
    "name": "ipython",
    "version": 3
   },
   "file_extension": ".py",
   "mimetype": "text/x-python",
   "name": "python",
   "nbconvert_exporter": "python",
   "pygments_lexer": "ipython3",
   "version": "3.6.5"
  }
 },
 "nbformat": 4,
 "nbformat_minor": 2
}
